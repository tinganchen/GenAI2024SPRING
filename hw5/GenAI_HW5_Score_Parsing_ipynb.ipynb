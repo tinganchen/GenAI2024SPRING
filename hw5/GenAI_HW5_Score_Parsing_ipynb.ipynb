{
  "nbformat": 4,
  "nbformat_minor": 0,
  "metadata": {
    "colab": {
      "provenance": []
    },
    "kernelspec": {
      "name": "python3",
      "display_name": "Python 3"
    },
    "language_info": {
      "name": "python"
    }
  },
  "cells": [
    {
      "cell_type": "markdown",
      "source": [
        "# How to use (You can find the instruction with screenshots on [homework slides](https://docs.google.com/presentation/d/1NINc4Av4pJDMsGL1N_B4CUviwU13-H0RiCvs2K01O-I/edit#slide=id.g2c69dbff152_1_0))\n",
        "1. Save a copy of this Colab notebook.\n",
        "2. Download the JSON file you upload to NTU COOL.\n",
        "3. Upload the JSON file to Colab.\n",
        "3. Fill in your student ID (case insensitive) in the first cell.\n",
        "4. Run both cells.\n",
        "5. You should see the score you will get. Otherwise, there are some problem in your result file."
      ],
      "metadata": {
        "id": "Edu-_DwNzWZ8"
      }
    },
    {
      "cell_type": "code",
      "source": [
        "student_ID = \"d09921014\" # case insensitive"
      ],
      "metadata": {
        "id": "w5z6Pl2c2BSD"
      },
      "execution_count": null,
      "outputs": []
    },
    {
      "cell_type": "code",
      "execution_count": null,
      "metadata": {
        "id": "VcgZ5B_y13YO",
        "colab": {
          "base_uri": "https://localhost:8080/"
        },
        "outputId": "bc0ca727-7626-4d1a-add8-7f4cebc56668"
      },
      "outputs": [
        {
          "output_type": "stream",
          "name": "stdout",
          "text": [
            "fatal: destination path 'GenAI-Hw5' already exists and is not an empty directory.\n",
            "Uploaded file: d09921014.json\n",
            "For content you get 5%\n",
            "For format you get 5%\n"
          ]
        }
      ],
      "source": [
        "import json\n",
        "import os\n",
        "import re\n",
        "\n",
        "!git clone https://github.com/CheeEn-Yu/GenAI-Hw5.git --quiet\n",
        "\n",
        "with open(\"GenAI-Hw5/Tang_testing_data.json\", \"r\", encoding = \"utf-8\") as f:\n",
        "    testData = json.load(f)\n",
        "\n",
        "with open(\"GenAI-Hw5/Tang_testing_gt.txt\", \"r\", encoding = \"utf-8\") as f:\n",
        "    gts = f.readlines()\n",
        "\n",
        "files = [f for f in os.listdir(\".\") if (re.match(f\"{student_ID}(-[-\\w]+)?.json\", f, flags = re.IGNORECASE))]\n",
        "\n",
        "if (len(files) == 1):\n",
        "    print(f\"Uploaded file: {files[0]}\")\n",
        "    with open(f\"{files[0]}\", \"r\") as f:\n",
        "        history = json.load(f)[\"history\"]\n",
        "elif (len(files) > 1):\n",
        "    raise ValueError(f\"You've uploaded multiple files ({files}). Please delete them (right click them in side panel) and upload the last one you submitted to NTU COOL.\")\n",
        "else:\n",
        "    raise ValueError(f\"Didn't find any uploaded file that matches your student ID ({student_ID}). Please follow the slides and upload files, or make sure the file name is correct.\")\n",
        "\n",
        "studentInput = history[0][\"messages\"][0][\"content\"]\n",
        "evaluationResult = history[0][\"messages\"][1][\"content\"]\n",
        "gtOverlapCnt = 0\n",
        "poems = re.findall(\"\\d{1,2}\\.[^\\d]*\", studentInput)\n",
        "cnt = {\"content\": 0, \"format\": 0}\n",
        "SEP = \"\\n\" + \"-\" * 80 + \"\\n\"\n",
        "\n",
        "assert (len(poems) == 15), f\"{SEP}Poems you submit does not match our test data\"\n",
        "\n",
        "for (i, (poem, gt)) in enumerate(zip(poems, gts)):\n",
        "    assert poem.startswith(f\"{i + 1}. {testData[i]['input']}\"), f\"{SEP}Poems you submit does not match our test data\"\n",
        "\n",
        "    for sentence in gt.split(\"\\t\"):\n",
        "        if (sentence.strip() in poem):\n",
        "            gtOverlapCnt += 1\n",
        "            break\n",
        "\n",
        "assert (gtOverlapCnt < 8), f\"{SEP}Your poems contain too many sentences that are in the original poem, please make sure your poems are created by the fine-tuned model\"\n",
        "\n",
        "try:\n",
        "    finalScores = json.loads(evaluationResult.split(\"```\")[1])\n",
        "except:\n",
        "    raise ValueError(f\"{SEP}Can not parse your final scores\")\n",
        "\n",
        "assert (len(finalScores) == 15), f\"{SEP}Final scores do not contain score for each poem\"\n",
        "\n",
        "for (k, v) in finalScores.items():\n",
        "    if (v[\"content\"] >= 7.0): cnt[\"content\"] += 1\n",
        "    if (v[\"format\"] >= 8.0): cnt[\"format\"] += 1\n",
        "\n",
        "for part in [\"content\", \"format\"]:\n",
        "    if (cnt[part] >= 10): print(f\"For {part} you get 5%\")\n",
        "    elif (cnt[part] >= 8): print(f\"For {part} you get 4%\")\n",
        "    elif (cnt[part] >= 6): print(f\"For {part} you get 3%\")\n",
        "    elif (cnt[part] >= 4): print(f\"For {part} you get 2%\")\n",
        "    elif (cnt[part] >= 2): print(f\"For {part} you get 1%\")\n",
        "    else: print(f\"For {part} you get 0%\")"
      ]
    }
  ]
}